{
 "cells": [
  {
   "cell_type": "code",
   "execution_count": 65,
   "id": "733cb3d6-cb44-426c-a996-461867ba2ae2",
   "metadata": {},
   "outputs": [],
   "source": [
    "import pickle\n",
    "\n",
    "from gensim.parsing.preprocessing import strip_punctuation, remove_stopwords, strip_non_alphanum"
   ]
  },
  {
   "cell_type": "code",
   "execution_count": 90,
   "id": "1cc9e407-c81f-40f8-8ff3-576a76a7b331",
   "metadata": {},
   "outputs": [],
   "source": [
    "vectorizer = pickle.load(open('tfidf_vectorizer.abc', 'rb'))\n",
    "LR_model = pickle.load(open('LR_1500_model.abc', 'rb'))\n",
    "Clf_model = pickle.load(open('LR_classify_model.abc', 'rb'))\n",
    "selector = pickle.load(open('selector_1500.abc', 'rb'))\n",
    "labels = ['(0, 3.0]', '(3.0, 3.5]', '(3.5, 4.0]', '(4.0, 4.5]', '(4.5, 5.0]']"
   ]
  },
  {
   "cell_type": "code",
   "execution_count": 85,
   "id": "113f4362-c921-449e-9944-84251fffb4cb",
   "metadata": {},
   "outputs": [
    {
     "name": "stdin",
     "output_type": "stream",
     "text": [
      "Input book title: Watership Down\n",
      "Input book description: \tdescription 37\tSet in England s Downs a once idyllic rural landscape this stirring tale of adventure courage and survival follows a band of very special creatures on their flight from the intrusion of man and the certain destruction of their home. Led by a stouthearted pair of friends they journey forth from their native Sandleford Warren through the harrowing trials posed by predators and adversaries to a mysterious promised land and a more perfect society\n"
     ]
    }
   ],
   "source": [
    "title = input('Input Book title: ')\n",
    "description = input('Input Book description: ')"
   ]
  },
  {
   "cell_type": "code",
   "execution_count": 104,
   "id": "857ee2bf-95a6-4841-b44e-edef750fe4d0",
   "metadata": {},
   "outputs": [
    {
     "name": "stdout",
     "output_type": "stream",
     "text": [
      "Linear Regression | Rating: 3.97\n",
      "Logistic Regression | Rating range: (4.0, 4.5]\n"
     ]
    }
   ],
   "source": [
    "X_input = ' '.join([title, description])\n",
    "X_input = str.lower(X_input)\n",
    "X_input = strip_punctuation(X_input)\n",
    "X_input = remove_stopwords(X_input)\n",
    "X_input = strip_non_alphanum(X_input)\n",
    "X_input = vectorizer.transform([X_input])\n",
    "\n",
    "y_pred_LR = LR_model.predict(selector.transform(X_input))\n",
    "y_pred_clf = Clf_model.predict(X_input)\n",
    "\n",
    "print(f'Linear Regression | Rating: {y_pred_LR[0]:.2f}')\n",
    "print(f'Logistic Regression | Rating range: {labels[y_pred_clf[0]]}')"
   ]
  },
  {
   "cell_type": "code",
   "execution_count": null,
   "id": "9ee63b3e-85a0-480e-94cb-164145c37c62",
   "metadata": {},
   "outputs": [],
   "source": []
  }
 ],
 "metadata": {
  "kernelspec": {
   "display_name": "Python 3 (ipykernel)",
   "language": "python",
   "name": "python3"
  },
  "language_info": {
   "codemirror_mode": {
    "name": "ipython",
    "version": 3
   },
   "file_extension": ".py",
   "mimetype": "text/x-python",
   "name": "python",
   "nbconvert_exporter": "python",
   "pygments_lexer": "ipython3",
   "version": "3.10.8"
  }
 },
 "nbformat": 4,
 "nbformat_minor": 5
}
