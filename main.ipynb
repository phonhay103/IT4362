{
 "cells": [
  {
   "cell_type": "code",
   "execution_count": 7,
   "id": "733cb3d6-cb44-426c-a996-461867ba2ae2",
   "metadata": {},
   "outputs": [],
   "source": [
    "import joblib\n",
    "\n",
    "from gensim.parsing.preprocessing import strip_punctuation, remove_stopwords, strip_non_alphanum"
   ]
  },
  {
   "cell_type": "code",
   "execution_count": 11,
   "id": "1cc9e407-c81f-40f8-8ff3-576a76a7b331",
   "metadata": {},
   "outputs": [],
   "source": [
    "vectorizer = joblib.load('tfidf_vectorizer.abc')\n",
    "LR_model = joblib.load('LR_1500_model.abc')\n",
    "Clf_model = joblib.load('LR_classify_model.abc')\n",
    "selector = joblib.load('selector_1500.abc')\n",
    "labels = ['(0, 3.0]', '(3.0, 3.5]', '(3.5, 4.0]', '(4.0, 4.5]', '(4.5, 5.0]']"
   ]
  },
  {
   "cell_type": "code",
   "execution_count": 13,
   "id": "113f4362-c921-449e-9944-84251fffb4cb",
   "metadata": {},
   "outputs": [
    {
     "name": "stdin",
     "output_type": "stream",
     "text": [
      "Input Book title:  1\n",
      "Input Book description:  2\n"
     ]
    }
   ],
   "source": [
    "title = input('Input Book title: ')\n",
    "description = input('Input Book description: ')"
   ]
  },
  {
   "cell_type": "code",
   "execution_count": 14,
   "id": "857ee2bf-95a6-4841-b44e-edef750fe4d0",
   "metadata": {},
   "outputs": [
    {
     "name": "stdout",
     "output_type": "stream",
     "text": [
      "Linear Regression | Rating: 3.99\n",
      "Logistic Regression | Rating range: (3.5, 4.0]\n"
     ]
    }
   ],
   "source": [
    "X_input = ' '.join([title, description])\n",
    "X_input = str.lower(X_input)\n",
    "X_input = strip_punctuation(X_input)\n",
    "X_input = remove_stopwords(X_input)\n",
    "X_input = strip_non_alphanum(X_input)\n",
    "X_input = vectorizer.transform([X_input])\n",
    "\n",
    "y_pred_LR = LR_model.predict(selector.transform(X_input))\n",
    "y_pred_clf = Clf_model.predict(X_input)\n",
    "\n",
    "print(f'Linear Regression | Rating: {y_pred_LR[0]:.2f}')\n",
    "print(f'Logistic Regression | Rating range: {labels[y_pred_clf[0]]}')"
   ]
  },
  {
   "cell_type": "code",
   "execution_count": null,
   "id": "9ee63b3e-85a0-480e-94cb-164145c37c62",
   "metadata": {},
   "outputs": [],
   "source": []
  }
 ],
 "metadata": {
  "kernelspec": {
   "display_name": "Python 3 (ipykernel)",
   "language": "python",
   "name": "python3"
  },
  "language_info": {
   "codemirror_mode": {
    "name": "ipython",
    "version": 3
   },
   "file_extension": ".py",
   "mimetype": "text/x-python",
   "name": "python",
   "nbconvert_exporter": "python",
   "pygments_lexer": "ipython3",
   "version": "3.9.15"
  }
 },
 "nbformat": 4,
 "nbformat_minor": 5
}
