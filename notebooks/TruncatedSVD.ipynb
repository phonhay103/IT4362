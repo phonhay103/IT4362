{
 "cells": [
  {
   "cell_type": "code",
   "execution_count": 2,
   "id": "83912cfa-4736-4d62-9fa0-892180eba7ca",
   "metadata": {},
   "outputs": [],
   "source": [
    "import pandas as pd\n",
    "import numpy as np\n",
    "import matplotlib.pyplot as plt\n",
    "\n",
    "from sklearn.model_selection import train_test_split\n",
    "from sklearn.linear_model import LinearRegression\n",
    "from sklearn.feature_extraction.text import TfidfVectorizer\n",
    "from sklearn.metrics import mean_absolute_error as mae, r2_score, mean_squared_error as mse\n",
    "from sklearn.decomposition import TruncatedSVD\n",
    "from gensim.parsing.preprocessing import strip_punctuation, remove_stopwords, strip_non_alphanum\n",
    "from tqdm import tqdm\n",
    "\n",
    "%matplotlib inline"
   ]
  },
  {
   "cell_type": "code",
   "execution_count": 3,
   "id": "2b8f515f-2dce-4fe9-b6b7-d80e8cb5a299",
   "metadata": {},
   "outputs": [
    {
     "name": "stderr",
     "output_type": "stream",
     "text": [
      "/var/folders/8r/m2pg_8ks4llg947g5m_m0hqh0000gn/T/ipykernel_25694/1419989366.py:2: DtypeWarning: Columns (1) have mixed types. Specify dtype option on import or set low_memory=False.\n",
      "  df = pd.read_csv('../datasets/goodreads-300k-dataset/goodreads.csv')\n"
     ]
    }
   ],
   "source": [
    "# Load data from csv\n",
    "df = pd.read_csv('../datasets/goodreads-300k-dataset/goodreads.csv')\n",
    "\n",
    "# Split rating count\n",
    "rating_count_split = 1000\n",
    "df = df[df.rating_count >= rating_count_split]\n",
    "\n",
    "# Combine title and description into one\n",
    "df['title_description'] = df[['title', 'description']].apply(lambda x: ' '.join(x), axis=1)\n",
    "\n",
    "# Remove non-ascii rows\n",
    "df = df[df.title_description.map(lambda x: x.isascii())]\n",
    "\n",
    "# Convert to lowercase\n",
    "df.title_description = df.title_description.str.lower()\n",
    "\n",
    "# Remove punctuation\n",
    "df.title_description = df.title_description.apply(lambda x: strip_punctuation(x))\n",
    "\n",
    "# Remove stopwords \n",
    "df.title_description = df.title_description.apply(lambda x: remove_stopwords(x))\n",
    "\n",
    "# Remove non-alpha\n",
    "df.title_description = df.title_description.apply(lambda x: strip_non_alphanum(x))"
   ]
  },
  {
   "cell_type": "code",
   "execution_count": null,
   "id": "aabe95c7-12fb-4514-91fc-f7fb2a60365e",
   "metadata": {},
   "outputs": [],
   "source": [
    "train_df, valid_df = train_test_split(df, test_size=0.1, random_state=1)\n",
    "\n",
    "print('Train:', train_df.shape)\n",
    "print('Valid:', valid_df.shape)"
   ]
  },
  {
   "cell_type": "code",
   "execution_count": 12,
   "id": "a8dba5a6-a283-40fd-bceb-0f914deb03f4",
   "metadata": {},
   "outputs": [],
   "source": [
    "# Word embedding\n",
    "vectorizer = TfidfVectorizer()\n",
    "vectorizer.fit(df.title_description)\n",
    "\n",
    "X_train = vectorizer.transform(train_df.title_description)\n",
    "X_valid = vectorizer.transform(valid_df.title_description)\n",
    "\n",
    "y_train = train_df.rating.values\n",
    "y_valid = valid_df.rating.values"
   ]
  },
  {
   "cell_type": "code",
   "execution_count": null,
   "id": "56c59389-4d10-486c-bcff-11a5cbb4bcf0",
   "metadata": {},
   "outputs": [
    {
     "name": "stderr",
     "output_type": "stream",
     "text": [
      "  0%|                                                                                                                         | 0/99 [00:00<?, ?it/s]"
     ]
    }
   ],
   "source": [
    "train_mae = []\n",
    "valid_mae = []\n",
    "train_mse = []\n",
    "valid_mse = []\n",
    "train_r2 = []\n",
    "valid_r2 = []\n",
    "\n",
    "components = np.arange(100, 10000, 100)\n",
    "for i in tqdm(components):\n",
    "    svd = TruncatedSVD(n_components=i)\n",
    "    svd.fit(X_train)\n",
    "    \n",
    "    X_train_svd = svd.transform(X_train)\n",
    "    X_valid_svd = svd.transform(X_valid)\n",
    "\n",
    "    model = LinearRegression()\n",
    "    model.fit(X_train_svd, y_train)\n",
    "\n",
    "    y_pred = model.predict(X_train_svd)\n",
    "    train_mae.append(mae(y_train, y_pred))\n",
    "    train_mse.append(mse(y_train, y_pred))\n",
    "    train_r2.append(r2_score(y_train, y_pred))\n",
    "\n",
    "    y_pred = model.predict(X_valid_svd)\n",
    "    valid_mae.append(mae(y_valid, y_pred))\n",
    "    valid_mse.append(mse(y_valid, y_pred))\n",
    "    valid_r2.append(r2_score(y_valid, y_pred))"
   ]
  },
  {
   "cell_type": "code",
   "execution_count": null,
   "id": "df571359-83e0-4102-a002-b3e8d64aac5b",
   "metadata": {},
   "outputs": [],
   "source": [
    "plt.plot(components, train_mae, label='train_mae')\n",
    "plt.plot(components, valid_mae, label='valid_mae')\n",
    "\n",
    "x_best = components[np.argmin(valid_mae)]\n",
    "y_best = np.min(valid_mae)\n",
    "plt.plot(x_best, y_best, marker=\"o\", color=\"green\")\n",
    "\n",
    "plt.xlabel('d')\n",
    "plt.ylabel('MAE')\n",
    "plt.legend()\n",
    "plt.savefig('TruncatedSVD_MAE.png')"
   ]
  },
  {
   "cell_type": "code",
   "execution_count": null,
   "id": "3f6451fe-637e-482f-b171-02683eef96d7",
   "metadata": {},
   "outputs": [],
   "source": [
    "plt.plot(components, train_mse, label='train_mse')\n",
    "plt.plot(components, valid_mse, label='valid_mse')\n",
    "\n",
    "x_best = components[np.argmin(valid_mse)]\n",
    "y_best = np.min(valid_mse)\n",
    "plt.plot(x_best, y_best, marker=\"o\", color=\"green\")\n",
    "\n",
    "plt.xlabel('d')\n",
    "plt.ylabel('MSE')\n",
    "plt.legend()\n",
    "plt.savefig('TruncatedSVD_MSE.png')"
   ]
  },
  {
   "cell_type": "code",
   "execution_count": null,
   "id": "6e06ffb0-fb27-453a-9f33-58625fe8bd9b",
   "metadata": {},
   "outputs": [],
   "source": [
    "plt.plot(components, train_r2, label='train_r2')\n",
    "plt.plot(components, valid_r2, label='valid_r2')\n",
    "\n",
    "x_best = components[np.argmax(valid_r2)]\n",
    "y_best = np.max(valid_r2)\n",
    "plt.plot(x_best, y_best, marker=\"o\", color=\"green\")\n",
    "\n",
    "plt.xlabel('d')\n",
    "plt.ylabel('R-Squared')\n",
    "plt.legend()\n",
    "plt.savefig('TruncatedSVD_R2.png')"
   ]
  },
  {
   "cell_type": "code",
   "execution_count": null,
   "id": "7800b145-824b-45d7-b650-83c97105cd47",
   "metadata": {},
   "outputs": [],
   "source": []
  }
 ],
 "metadata": {
  "kernelspec": {
   "display_name": "Python 3 (ipykernel)",
   "language": "python",
   "name": "python3"
  },
  "language_info": {
   "codemirror_mode": {
    "name": "ipython",
    "version": 3
   },
   "file_extension": ".py",
   "mimetype": "text/x-python",
   "name": "python",
   "nbconvert_exporter": "python",
   "pygments_lexer": "ipython3",
   "version": "3.9.15"
  }
 },
 "nbformat": 4,
 "nbformat_minor": 5
}
