{
 "cells": [
  {
   "cell_type": "code",
   "execution_count": 1,
   "id": "83912cfa-4736-4d62-9fa0-892180eba7ca",
   "metadata": {},
   "outputs": [],
   "source": [
    "import pandas as pd\n",
    "import numpy as np\n",
    "import joblib\n",
    "\n",
    "from sklearn.model_selection import train_test_split\n",
    "from sklearn.linear_model import LinearRegression\n",
    "from sklearn.feature_extraction.text import TfidfVectorizer, CountVectorizer, HashingVectorizer\n",
    "from sklearn.metrics import mean_absolute_error as mae, r2_score, mean_squared_error as mse\n",
    "from sklearn.feature_selection import SelectKBest, f_regression\n",
    "from gensim.parsing.preprocessing import strip_punctuation, remove_stopwords, strip_non_alphanum"
   ]
  },
  {
   "cell_type": "code",
   "execution_count": 2,
   "id": "efb7a3f6-6f17-446b-a1e2-aab7c207786f",
   "metadata": {},
   "outputs": [],
   "source": [
    "def rmse(y_true, y_pred):\n",
    "    return np.sqrt(mse(y_true, y_pred))"
   ]
  },
  {
   "cell_type": "code",
   "execution_count": 3,
   "id": "2b8f515f-2dce-4fe9-b6b7-d80e8cb5a299",
   "metadata": {},
   "outputs": [
    {
     "name": "stderr",
     "output_type": "stream",
     "text": [
      "/var/folders/8r/m2pg_8ks4llg947g5m_m0hqh0000gn/T/ipykernel_72981/2604279954.py:2: DtypeWarning: Columns (1) have mixed types. Specify dtype option on import or set low_memory=False.\n",
      "  df = pd.read_csv('goodreads-300k-dataset/goodreads.csv')\n"
     ]
    }
   ],
   "source": [
    "# Load data from csv\n",
    "df = pd.read_csv('../datasets/goodreads-300k-dataset/goodreads.csv')\n",
    "test_df = pd.read_csv('../datasets/test.csv', index_col=False)\n",
    "\n",
    "# Split rating count\n",
    "rating_count_split = 1000\n",
    "df = df[df.rating_count >= rating_count_split]\n",
    "\n",
    "# Combine title and description into one\n",
    "df['title_description'] = df[['title', 'description']].apply(lambda x: ' '.join(x), axis=1)\n",
    "test_df['title_description'] = test_df[['title', 'description']].apply(lambda x: ' '.join(x), axis=1)\n",
    "\n",
    "# Remove non-ascii rows\n",
    "df = df[df.title_description.map(lambda x: x.isascii())]\n",
    "\n",
    "# Convert to lowercase\n",
    "df.title_description = df.title_description.str.lower()\n",
    "test_df.title_description = test_df.title_description.str.lower()\n",
    "\n",
    "# Remove punctuation\n",
    "df.title_description = df.title_description.apply(lambda x: strip_punctuation(x))\n",
    "test_df.title_description = test_df.title_description.apply(lambda x: strip_punctuation(x))\n",
    "\n",
    "# Remove stopwords\n",
    "df.title_description = df.title_description.apply(lambda x: remove_stopwords(x))\n",
    "test_df.title_description = test_df.title_description.apply(lambda x: remove_stopwords(x))\n",
    "\n",
    "# Remove non-alpha\n",
    "df.title_description = df.title_description.apply(lambda x: strip_non_alphanum(x))\n",
    "test_df.title_description = test_df.title_description.apply(lambda x: strip_non_alphanum(x))"
   ]
  },
  {
   "cell_type": "code",
   "execution_count": 4,
   "id": "aabe95c7-12fb-4514-91fc-f7fb2a60365e",
   "metadata": {},
   "outputs": [
    {
     "name": "stdout",
     "output_type": "stream",
     "text": [
      "Train: (45576, 11)\n",
      "Valid: (5064, 11)\n",
      "Test: (100, 6)\n"
     ]
    }
   ],
   "source": [
    "train_df, valid_df = train_test_split(df, test_size=0.1, random_state=1)\n",
    "\n",
    "print('Train:', train_df.shape)\n",
    "print('Valid:', valid_df.shape)\n",
    "print('Test:', test_df.shape)"
   ]
  },
  {
   "cell_type": "code",
   "execution_count": 5,
   "id": "a8dba5a6-a283-40fd-bceb-0f914deb03f4",
   "metadata": {},
   "outputs": [
    {
     "name": "stdout",
     "output_type": "stream",
     "text": [
      "Input shape: (1, 108138)\n"
     ]
    }
   ],
   "source": [
    "# Word embedding\n",
    "vectorizer = TfidfVectorizer()\n",
    "vectorizer.fit(df.title_description)\n",
    "\n",
    "X_train = vectorizer.transform(train_df.title_description)\n",
    "X_valid = vectorizer.transform(valid_df.title_description)\n",
    "X_test = vectorizer.transform(test_df.title_description)\n",
    "\n",
    "y_train = train_df.rating.values\n",
    "y_valid = valid_df.rating.values\n",
    "y_test = test_df.rating.values\n",
    "\n",
    "print('Input shape:', X_train[0].shape)"
   ]
  },
  {
   "cell_type": "code",
   "execution_count": 6,
   "id": "68b5093c-3852-4631-9fdc-630df9b25731",
   "metadata": {},
   "outputs": [
    {
     "name": "stdout",
     "output_type": "stream",
     "text": [
      "Input shape: (1, 1500)\n",
      "MAE: 0.23814821612663029\n",
      "MSE: 0.08921124918963719\n",
      "RMSE: 0.29868252240403553\n",
      "R2: -0.27698232145918955\n"
     ]
    }
   ],
   "source": [
    "# Feature selection\n",
    "select = SelectKBest(score_func=f_regression, k=1500)\n",
    "select.fit(X_train, y_train)\n",
    "\n",
    "X_train_ = select.transform(X_train)\n",
    "X_valid_ = select.transform(X_valid)\n",
    "X_test_ = select.transform(X_test)\n",
    "\n",
    "print('Input shape:', X_train_[0].shape)\n",
    "\n",
    "# Training\n",
    "model = LinearRegression()\n",
    "model.fit(X_train_, y_train)\n",
    "\n",
    "# Evaluation\n",
    "y_pred = model.predict(X_train_)\n",
    "# print('MAE:', mae(y_train, y_pred))\n",
    "# print('MSE:', mse(y_train, y_pred))\n",
    "# print('R2:', r2_score(y_train, y_pred))\n",
    "# print('')\n",
    "\n",
    "# y_pred = model.predict(X_valid_)\n",
    "# print('MAE:', mae(y_valid, y_pred))\n",
    "# print('MSE:', mse(y_valid, y_pred))\n",
    "# print('R2:', r2_score(y_valid, y_pred))\n",
    "# print('')\n",
    "\n",
    "y_pred = model.predict(X_test_)\n",
    "print('MAE:', mae(y_test, y_pred))\n",
    "print('MSE:', mse(y_test, y_pred))\n",
    "print('RMSE:', rmse(y_test, y_pred))\n",
    "print('R2:', r2_score(y_test, y_pred))"
   ]
  },
  {
   "cell_type": "code",
   "execution_count": 7,
   "id": "7d20c256-ca0d-4079-9c1f-3169c18691c7",
   "metadata": {},
   "outputs": [
    {
     "data": {
      "text/plain": [
       "['selector_1500.abc']"
      ]
     },
     "execution_count": 7,
     "metadata": {},
     "output_type": "execute_result"
    }
   ],
   "source": [
    "# Save model\n",
    "joblib.dump(model, 'LR_1500_model.abc')\n",
    "joblib.dump(vectorizer, 'tfidf_vectorizer.abc')\n",
    "joblib.dump(select, 'selector_1500.abc')"
   ]
  },
  {
   "cell_type": "code",
   "execution_count": null,
   "id": "e54e3f14-24c5-447e-b00b-f2cf94d688a2",
   "metadata": {},
   "outputs": [],
   "source": []
  }
 ],
 "metadata": {
  "kernelspec": {
   "display_name": "Python 3 (ipykernel)",
   "language": "python",
   "name": "python3"
  },
  "language_info": {
   "codemirror_mode": {
    "name": "ipython",
    "version": 3
   },
   "file_extension": ".py",
   "mimetype": "text/x-python",
   "name": "python",
   "nbconvert_exporter": "python",
   "pygments_lexer": "ipython3",
   "version": "3.9.15"
  }
 },
 "nbformat": 4,
 "nbformat_minor": 5
}
