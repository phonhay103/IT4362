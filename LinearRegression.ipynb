{
 "cells": [
  {
   "cell_type": "code",
   "execution_count": 97,
   "id": "83912cfa-4736-4d62-9fa0-892180eba7ca",
   "metadata": {},
   "outputs": [],
   "source": [
    "import pandas as pd\n",
    "import numpy as np\n",
    "import string\n",
    "\n",
    "from sklearn.model_selection import train_test_split\n",
    "from sklearn.linear_model import LinearRegression\n",
    "from sklearn.feature_extraction.text import CountVectorizer, TfidfVectorizer, HashingVectorizer\n",
    "from sklearn.metrics import mean_absolute_error as mae\n",
    "from sklearn.preprocessing import LabelEncoder\n",
    "from scipy.sparse import hstack\n",
    "from gensim.models import KeyedVectors\n",
    "from gensim.parsing.preprocessing import preprocess_string, strip_punctuation, remove_stopwords\n",
    "\n",
    "%matplotlib inline"
   ]
  },
  {
   "cell_type": "code",
   "execution_count": 2,
   "id": "5a14bddf-bd1d-4983-b9a9-b0e5426a7a3b",
   "metadata": {},
   "outputs": [],
   "source": [
    "wv = KeyedVectors.load_word2vec_format('word2vec-google-news-300.bin', binary=True)"
   ]
  },
  {
   "cell_type": "code",
   "execution_count": 11,
   "id": "e28708a7-3168-405e-91fa-2cdc4cd7c29e",
   "metadata": {},
   "outputs": [],
   "source": [
    "def sentence_to_vector(doc):\n",
    "    doc = [wv.get_vector(word) for word in doc if wv.has_index_for(word)]\n",
    "    if len(doc) == 0:\n",
    "        return wv.vectors[0]\n",
    "\n",
    "    return np.mean(doc, axis=0)"
   ]
  },
  {
   "cell_type": "code",
   "execution_count": 72,
   "id": "ab31f479-43f6-4f16-ba6b-3df2b0c21361",
   "metadata": {},
   "outputs": [
    {
     "name": "stderr",
     "output_type": "stream",
     "text": [
      "C:\\Users\\Nhay\\AppData\\Local\\Temp\\ipykernel_20064\\2097351544.py:2: DtypeWarning: Columns (1) have mixed types. Specify dtype option on import or set low_memory=False.\n",
      "  df = pd.read_csv('goodreads-300k-dataset/keywords.csv')\n"
     ]
    }
   ],
   "source": [
    "# Load data from csv\n",
    "df = pd.read_csv('goodreads-300k-dataset/keywords.csv')\n",
    "test_df = pd.read_csv('test.csv', index_col=False)\n",
    "\n",
    "# Combine title and description into one | convert to lowercase\n",
    "df['title_description'] = df[['title', 'description']].apply(lambda x: ' '.join(x), axis=1)\n",
    "test_df['title_description'] = test_df[['title', 'description']].apply(lambda x: ' '.join(x), axis=1)\n",
    "\n",
    "# Remove non-ascii rows\n",
    "df = df[df.title_description.map(lambda x: x.isascii())]\n",
    "\n",
    "# Remove punctuation and stopwords\n",
    "df.title_description = df.title_description.apply(lambda x: preprocess_string(x, [strip_punctuation, remove_stopwords]))\n",
    "test_df.title_description = test_df.title_description.apply(lambda x: preprocess_string(x, [strip_punctuation, remove_stopwords]))"
   ]
  },
  {
   "cell_type": "code",
   "execution_count": 73,
   "id": "07586409-6dcf-4edf-8c84-2aa4a5c9848c",
   "metadata": {},
   "outputs": [
    {
     "name": "stdout",
     "output_type": "stream",
     "text": [
      "Train: (39910, 13)\n",
      "Valid: (9978, 13)\n",
      "Test: (51, 6)\n"
     ]
    }
   ],
   "source": [
    "rating_count_split = 1000\n",
    "train_df = df[df.rating_count >= rating_count_split]\n",
    "train_df, valid_df = train_test_split(train_df, test_size=0.2, random_state=1)\n",
    "\n",
    "print('Train:', train_df.shape)\n",
    "print('Valid:', valid_df.shape)\n",
    "print('Test:', test_df.shape)\n",
    "\n",
    "# vectorizer = TfidfVectorizer(strip_accents='unicode', stop_words='english')\n",
    "# vectorizer.fit(df.title_description)"
   ]
  },
  {
   "cell_type": "code",
   "execution_count": 100,
   "id": "ad0dfb10-847d-4bb9-9116-da4306ef83a2",
   "metadata": {},
   "outputs": [
    {
     "data": {
      "text/html": [
       "<style>#sk-container-id-7 {color: black;background-color: white;}#sk-container-id-7 pre{padding: 0;}#sk-container-id-7 div.sk-toggleable {background-color: white;}#sk-container-id-7 label.sk-toggleable__label {cursor: pointer;display: block;width: 100%;margin-bottom: 0;padding: 0.3em;box-sizing: border-box;text-align: center;}#sk-container-id-7 label.sk-toggleable__label-arrow:before {content: \"▸\";float: left;margin-right: 0.25em;color: #696969;}#sk-container-id-7 label.sk-toggleable__label-arrow:hover:before {color: black;}#sk-container-id-7 div.sk-estimator:hover label.sk-toggleable__label-arrow:before {color: black;}#sk-container-id-7 div.sk-toggleable__content {max-height: 0;max-width: 0;overflow: hidden;text-align: left;background-color: #f0f8ff;}#sk-container-id-7 div.sk-toggleable__content pre {margin: 0.2em;color: black;border-radius: 0.25em;background-color: #f0f8ff;}#sk-container-id-7 input.sk-toggleable__control:checked~div.sk-toggleable__content {max-height: 200px;max-width: 100%;overflow: auto;}#sk-container-id-7 input.sk-toggleable__control:checked~label.sk-toggleable__label-arrow:before {content: \"▾\";}#sk-container-id-7 div.sk-estimator input.sk-toggleable__control:checked~label.sk-toggleable__label {background-color: #d4ebff;}#sk-container-id-7 div.sk-label input.sk-toggleable__control:checked~label.sk-toggleable__label {background-color: #d4ebff;}#sk-container-id-7 input.sk-hidden--visually {border: 0;clip: rect(1px 1px 1px 1px);clip: rect(1px, 1px, 1px, 1px);height: 1px;margin: -1px;overflow: hidden;padding: 0;position: absolute;width: 1px;}#sk-container-id-7 div.sk-estimator {font-family: monospace;background-color: #f0f8ff;border: 1px dotted black;border-radius: 0.25em;box-sizing: border-box;margin-bottom: 0.5em;}#sk-container-id-7 div.sk-estimator:hover {background-color: #d4ebff;}#sk-container-id-7 div.sk-parallel-item::after {content: \"\";width: 100%;border-bottom: 1px solid gray;flex-grow: 1;}#sk-container-id-7 div.sk-label:hover label.sk-toggleable__label {background-color: #d4ebff;}#sk-container-id-7 div.sk-serial::before {content: \"\";position: absolute;border-left: 1px solid gray;box-sizing: border-box;top: 0;bottom: 0;left: 50%;z-index: 0;}#sk-container-id-7 div.sk-serial {display: flex;flex-direction: column;align-items: center;background-color: white;padding-right: 0.2em;padding-left: 0.2em;position: relative;}#sk-container-id-7 div.sk-item {position: relative;z-index: 1;}#sk-container-id-7 div.sk-parallel {display: flex;align-items: stretch;justify-content: center;background-color: white;position: relative;}#sk-container-id-7 div.sk-item::before, #sk-container-id-7 div.sk-parallel-item::before {content: \"\";position: absolute;border-left: 1px solid gray;box-sizing: border-box;top: 0;bottom: 0;left: 50%;z-index: -1;}#sk-container-id-7 div.sk-parallel-item {display: flex;flex-direction: column;z-index: 1;position: relative;background-color: white;}#sk-container-id-7 div.sk-parallel-item:first-child::after {align-self: flex-end;width: 50%;}#sk-container-id-7 div.sk-parallel-item:last-child::after {align-self: flex-start;width: 50%;}#sk-container-id-7 div.sk-parallel-item:only-child::after {width: 0;}#sk-container-id-7 div.sk-dashed-wrapped {border: 1px dashed gray;margin: 0 0.4em 0.5em 0.4em;box-sizing: border-box;padding-bottom: 0.4em;background-color: white;}#sk-container-id-7 div.sk-label label {font-family: monospace;font-weight: bold;display: inline-block;line-height: 1.2em;}#sk-container-id-7 div.sk-label-container {text-align: center;}#sk-container-id-7 div.sk-container {/* jupyter's `normalize.less` sets `[hidden] { display: none; }` but bootstrap.min.css set `[hidden] { display: none !important; }` so we also need the `!important` here to be able to override the default hidden behavior on the sphinx rendered scikit-learn.org. See: https://github.com/scikit-learn/scikit-learn/issues/21755 */display: inline-block !important;position: relative;}#sk-container-id-7 div.sk-text-repr-fallback {display: none;}</style><div id=\"sk-container-id-7\" class=\"sk-top-container\"><div class=\"sk-text-repr-fallback\"><pre>LinearRegression()</pre><b>In a Jupyter environment, please rerun this cell to show the HTML representation or trust the notebook. <br />On GitHub, the HTML representation is unable to render, please try loading this page with nbviewer.org.</b></div><div class=\"sk-container\" hidden><div class=\"sk-item\"><div class=\"sk-estimator sk-toggleable\"><input class=\"sk-toggleable__control sk-hidden--visually\" id=\"sk-estimator-id-7\" type=\"checkbox\" checked><label for=\"sk-estimator-id-7\" class=\"sk-toggleable__label sk-toggleable__label-arrow\">LinearRegression</label><div class=\"sk-toggleable__content\"><pre>LinearRegression()</pre></div></div></div></div></div>"
      ],
      "text/plain": [
       "LinearRegression()"
      ]
     },
     "execution_count": 100,
     "metadata": {},
     "output_type": "execute_result"
    }
   ],
   "source": [
    "# X_train = vectorizer.transform(train_df.title_description)\n",
    "# X_valid = vectorizer.transform(valid_df.title_description)\n",
    "# X_test = vectorizer.transform(test_df.title_description)\n",
    "\n",
    "X_train = np.vstack([sentence_to_vector(sentence) for sentence in train_df.title_description.values])\n",
    "X_valid = np.vstack([sentence_to_vector(sentence) for sentence in valid_df.title_description.values])\n",
    "X_test = np.vstack([sentence_to_vector(sentence) for sentence in test_df.title_description.values])\n",
    "\n",
    "y_train = train_df.rating.values\n",
    "y_valid = valid_df.rating.values\n",
    "y_test = test_df.rating.values\n",
    "\n",
    "model = LinearRegression()\n",
    "model.fit(X_train, y_train)"
   ]
  },
  {
   "cell_type": "code",
   "execution_count": 99,
   "id": "c00b00ab-a9e6-4475-be95-33d7b58c7733",
   "metadata": {},
   "outputs": [
    {
     "name": "stdout",
     "output_type": "stream",
     "text": [
      "mae loss: 0.17933610944692965\n",
      "min: -0.868666286468506\n",
      "max: 1.3581276035308836\n",
      "mae loss: 0.18056245510696195\n",
      "min: -0.7305306339263913\n",
      "max: 1.3847862243652345\n",
      "mae loss: 0.3234898503621419\n",
      "min: -0.7175090026855466\n",
      "max: 0.5639478778839111\n"
     ]
    }
   ],
   "source": [
    "y_pred = model.predict(X_train)\n",
    "train_loss = mae(y_train, y_pred)\n",
    "print('mae loss:', train_loss)\n",
    "print('min:', (y_pred - y_train).min())\n",
    "print('max:', (y_pred - y_train).max())\n",
    "\n",
    "y_pred = model.predict(X_valid)\n",
    "valid_loss = mae(y_valid, y_pred)\n",
    "print('mae loss:', valid_loss)\n",
    "print('min:', (y_pred - y_valid).min())\n",
    "print('max:', (y_pred - y_valid).max())\n",
    "\n",
    "y_pred = model.predict(X_test)\n",
    "test_loss = mae(y_test, y_pred)\n",
    "print('mae loss:', test_loss)\n",
    "print('min:', (y_pred - y_test).min())\n",
    "print('max:', (y_pred - y_test).max())"
   ]
  },
  {
   "cell_type": "code",
   "execution_count": null,
   "id": "f7e2e5d8-59c9-42e2-9a16-bbf1465945c4",
   "metadata": {},
   "outputs": [],
   "source": []
  },
  {
   "cell_type": "code",
   "execution_count": 76,
   "id": "30e1334e-7e51-4c7c-8e99-012a589c01a6",
   "metadata": {},
   "outputs": [
    {
     "name": "stdout",
     "output_type": "stream",
     "text": [
      "0.0\n"
     ]
    }
   ],
   "source": [
    "print((model.coef_ == 0).sum() / model.coef_.shape[0] * 100)"
   ]
  },
  {
   "cell_type": "code",
   "execution_count": 77,
   "id": "62b92560-da45-498c-818b-1798c07988ea",
   "metadata": {},
   "outputs": [],
   "source": [
    "test_df = pd.read_csv('test.csv', index_col=False)\n",
    "test_df['title_description'] = test_df[['title', 'description']].apply(lambda x: ' '.join(x), axis=1)\n",
    "test_df.title_description = test_df.title_description.apply(lambda x: preprocess_string(x, [strip_punctuation, remove_stopwords]))\n",
    "X_test = np.vstack([sentence_to_vector(sentence) for sentence in test_df.title_description.values])\n",
    "y_test = test_df.rating.values"
   ]
  },
  {
   "cell_type": "code",
   "execution_count": 94,
   "id": "73b64f92-b0ad-4283-b2b4-645d7c82fdf5",
   "metadata": {},
   "outputs": [],
   "source": [
    "y_pred = model.predict(X_train)"
   ]
  },
  {
   "cell_type": "code",
   "execution_count": 95,
   "id": "3221c9dc-25fc-49ca-8f0b-c821c709d2a5",
   "metadata": {},
   "outputs": [
    {
     "data": {
      "text/plain": [
       "(3.4451265, 5.0342426)"
      ]
     },
     "execution_count": 95,
     "metadata": {},
     "output_type": "execute_result"
    }
   ],
   "source": [
    "y_pred.min(), y_pred.max()"
   ]
  },
  {
   "cell_type": "code",
   "execution_count": null,
   "id": "cc7d95ba-bebd-4419-977e-9897e9cd0b03",
   "metadata": {},
   "outputs": [],
   "source": []
  }
 ],
 "metadata": {
  "kernelspec": {
   "display_name": "Python 3 (ipykernel)",
   "language": "python",
   "name": "python3"
  },
  "language_info": {
   "codemirror_mode": {
    "name": "ipython",
    "version": 3
   },
   "file_extension": ".py",
   "mimetype": "text/x-python",
   "name": "python",
   "nbconvert_exporter": "python",
   "pygments_lexer": "ipython3",
   "version": "3.9.13"
  }
 },
 "nbformat": 4,
 "nbformat_minor": 5
}
