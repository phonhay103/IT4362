{
 "cells": [
  {
   "cell_type": "code",
   "execution_count": 1,
   "id": "83912cfa-4736-4d62-9fa0-892180eba7ca",
   "metadata": {},
   "outputs": [],
   "source": [
    "import pandas as pd\n",
    "import numpy as np\n",
    "import joblib\n",
    "\n",
    "from sklearn.model_selection import train_test_split\n",
    "from sklearn.linear_model import LogisticRegression\n",
    "from sklearn.feature_extraction.text import TfidfVectorizer, CountVectorizer, HashingVectorizer\n",
    "from sklearn.metrics import accuracy_score\n",
    "from gensim.parsing.preprocessing import strip_punctuation, remove_stopwords, strip_non_alphanum"
   ]
  },
  {
   "cell_type": "code",
   "execution_count": 2,
   "id": "1d3b2484-d68e-4054-aa46-ce4bf57729d2",
   "metadata": {},
   "outputs": [
    {
     "name": "stderr",
     "output_type": "stream",
     "text": [
      "/var/folders/8r/m2pg_8ks4llg947g5m_m0hqh0000gn/T/ipykernel_74319/3890815770.py:2: DtypeWarning: Columns (1) have mixed types. Specify dtype option on import or set low_memory=False.\n",
      "  df = pd.read_csv('goodreads-300k-dataset/goodreads.csv')\n"
     ]
    }
   ],
   "source": [
    "# Load data from csv\n",
    "df = pd.read_csv('goodreads-300k-dataset/goodreads.csv')\n",
    "test_df = pd.read_csv('test.csv', index_col=False)\n",
    "\n",
    "# Split rating count\n",
    "rating_count_split = 1000\n",
    "df = df[df.rating_count >= rating_count_split]\n",
    "\n",
    "# Combine title and description into one\n",
    "df['title_description'] = df[['title', 'description']].apply(lambda x: ' '.join(x), axis=1)\n",
    "test_df['title_description'] = test_df[['title', 'description']].apply(lambda x: ' '.join(x), axis=1)\n",
    "\n",
    "# Remove non-ascii rows\n",
    "df = df[df.title_description.map(lambda x: x.isascii())]\n",
    "test_df = test_df[test_df.title_description.map(lambda x: x.isascii())]\n",
    "\n",
    "# Convert to lowercase\n",
    "df.title_description = df.title_description.str.lower()\n",
    "test_df.title_description = test_df.title_description.str.lower()\n",
    "\n",
    "# Remove punctuation\n",
    "df.title_description = df.title_description.apply(lambda x: strip_punctuation(x))\n",
    "test_df.title_description = test_df.title_description.apply(lambda x: strip_punctuation(x))\n",
    "\n",
    "# Remove stopwords\n",
    "df.title_description = df.title_description.apply(lambda x: remove_stopwords(x))\n",
    "test_df.title_description = test_df.title_description.apply(lambda x: remove_stopwords(x))\n",
    "\n",
    "# Remove non-alpha\n",
    "df.title_description = df.title_description.apply(lambda x: strip_non_alphanum(x))\n",
    "test_df.title_description = test_df.title_description.apply(lambda x: strip_non_alphanum(x))"
   ]
  },
  {
   "cell_type": "code",
   "execution_count": 3,
   "id": "ab31f479-43f6-4f16-ba6b-3df2b0c21361",
   "metadata": {},
   "outputs": [],
   "source": [
    "# Binning label\n",
    "bins = (0, 3, 3.5, 4, 4.5, 5)\n",
    "labels = np.arange(len(bins)-1)\n",
    "df.rating = pd.cut(df.rating, bins=bins, labels=labels, include_lowest=True)\n",
    "test_df.rating = pd.cut(test_df.rating, bins=bins, labels=labels, include_lowest=True)"
   ]
  },
  {
   "cell_type": "code",
   "execution_count": 4,
   "id": "07586409-6dcf-4edf-8c84-2aa4a5c9848c",
   "metadata": {},
   "outputs": [
    {
     "name": "stdout",
     "output_type": "stream",
     "text": [
      "Train: (45576, 11)\n",
      "Valid: (5064, 11)\n",
      "Test: (51, 6)\n"
     ]
    }
   ],
   "source": [
    "train_df, valid_df = train_test_split(df, test_size=0.1, random_state=1, stratify=df.rating.values)\n",
    "\n",
    "print('Train:', train_df.shape)\n",
    "print('Valid:', valid_df.shape)\n",
    "print('Test:', test_df.shape)"
   ]
  },
  {
   "cell_type": "code",
   "execution_count": 5,
   "id": "f0a64d27-338d-4c74-9529-bede401210be",
   "metadata": {},
   "outputs": [
    {
     "name": "stdout",
     "output_type": "stream",
     "text": [
      "Input shape: (1, 108138)\n"
     ]
    }
   ],
   "source": [
    "# Word embedding\n",
    "vectorizer = TfidfVectorizer()\n",
    "vectorizer.fit(df.title_description)\n",
    "\n",
    "X_train = vectorizer.transform(train_df.title_description)\n",
    "X_valid = vectorizer.transform(valid_df.title_description)\n",
    "X_test = vectorizer.transform(test_df.title_description)\n",
    "\n",
    "y_train = train_df.rating.values\n",
    "y_valid = valid_df.rating.values\n",
    "y_test = test_df.rating.values\n",
    "\n",
    "print('Input shape:', X_train[0].shape)"
   ]
  },
  {
   "cell_type": "code",
   "execution_count": 6,
   "id": "58c6776b-800a-4fa5-b9be-c493faa12058",
   "metadata": {},
   "outputs": [
    {
     "name": "stdout",
     "output_type": "stream",
     "text": [
      "train acc: 0.8377654906090926\n",
      "valid acc: 0.6958925750394944\n",
      "test acc: 0.5882352941176471\n"
     ]
    }
   ],
   "source": [
    "# Training\n",
    "model = LogisticRegression(multi_class='multinomial', max_iter=1000)\n",
    "model.fit(X_train, y_train)\n",
    "\n",
    "# Evaluation\n",
    "y_pred = model.predict(X_train)\n",
    "print('train acc:', accuracy_score(y_pred, y_train))\n",
    "\n",
    "y_pred = model.predict(X_valid)\n",
    "print('valid acc:', accuracy_score(y_pred, y_valid))\n",
    "\n",
    "y_pred = model.predict(X_test)\n",
    "print('test acc:', accuracy_score(y_pred, y_test))"
   ]
  },
  {
   "cell_type": "code",
   "execution_count": 7,
   "id": "42e9eb2b-7c0e-49db-861e-d04cd5d25d0f",
   "metadata": {},
   "outputs": [
    {
     "data": {
      "text/plain": [
       "['LR_classify_model.abc']"
      ]
     },
     "execution_count": 7,
     "metadata": {},
     "output_type": "execute_result"
    }
   ],
   "source": [
    "joblib.dump(model, 'LR_classify_model.abc')"
   ]
  },
  {
   "cell_type": "code",
   "execution_count": null,
   "id": "c43cbb61-b185-4c12-8114-27fc8043f9fa",
   "metadata": {},
   "outputs": [],
   "source": []
  }
 ],
 "metadata": {
  "kernelspec": {
   "display_name": "Python 3 (ipykernel)",
   "language": "python",
   "name": "python3"
  },
  "language_info": {
   "codemirror_mode": {
    "name": "ipython",
    "version": 3
   },
   "file_extension": ".py",
   "mimetype": "text/x-python",
   "name": "python",
   "nbconvert_exporter": "python",
   "pygments_lexer": "ipython3",
   "version": "3.9.15"
  }
 },
 "nbformat": 4,
 "nbformat_minor": 5
}
